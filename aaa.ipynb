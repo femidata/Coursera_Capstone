{
 "cells": [
  {
   "cell_type": "markdown",
   "metadata": {},
   "source": [
    "## Table of contents\n",
    "* [Introduction](#introduction)\n",
    "* [Data](#data)\n",
    "* [Methodology](#methodology)\n",
    "* [Analysis](#analysis)\n",
    "* [Results and Discussion](#results)\n",
    "* [Conclusion](#conclusion)\n",
    "\n",
    "### INTRODUCTION <a name=\"introduction\"></a>\n",
    "\n",
    "**The Problem**\n",
    "They say “all work and no play make Jack a boy”. It is widely known that kids from India are always keen about education especially tech related, and spend a most of their childhood studying for a better future. However, it is good to build the mental state of these children with fun activities, this can be done by fun activities. The problem to solve in this cases study is where best to setup this center for easy access to children.\n",
    "\n",
    "**The Solution**\n",
    "Castiel Children Park is a recreation park intended for children in the metropolis of Mumbai, India where all children from every cluster of the city will have access to the facility. Some of the activities that will be available includes;\n",
    "* Coding camp\n",
    "* Skating\n",
    "* Swimming activities\n",
    "* Arcade\n",
    "* Fast foods\n",
    "* Children fitness and many more.\n",
    "\n",
    "While there might already exist locations that are children oriented, Castiel will be the first of its kind to give children a subscription plan-based payment which will give access to every activity for subscription validity duration except for the fast-food section that may require a little token for each meal. This recreation center will allow children from every background, different schools and upbringing interreact in an adult supervised environment.\n",
    "\n",
    "### DATA <a name=\"data\"></a>\n",
    "\n",
    "Based on definition of our problem, factors that will influence our decission are:\n",
    "* Number of children parks in the neighborhood.\n",
    "* Distance between existing parks in the neighborhood.\n",
    "* distance of neighborhood from city center\n",
    "\n",
    "We decided to use regularly spaced grid of locations, centered around city center, to define our neighborhoods.\n",
    "\n",
    "Following data sources will be needed to extract/generate the required information:\n",
    "\n",
    "* Number of Parks and their type and location in every neighborhood will be obtained using **Foursquare API**"
   ]
  }
 ],
 "metadata": {
  "kernelspec": {
   "display_name": "Python 3",
   "language": "python",
   "name": "python3"
  },
  "language_info": {
   "codemirror_mode": {
    "name": "ipython",
    "version": 3
   },
   "file_extension": ".py",
   "mimetype": "text/x-python",
   "name": "python",
   "nbconvert_exporter": "python",
   "pygments_lexer": "ipython3",
   "version": "3.7.3"
  }
 },
 "nbformat": 4,
 "nbformat_minor": 4
}
