{
 "cells": [
  {
   "cell_type": "markdown",
   "metadata": {},
   "source": [
    "# CASTIEL CHILDREN PARK"
   ]
  },
  {
   "cell_type": "markdown",
   "metadata": {},
   "source": [
    "<body>\n",
    "    \n",
    "### INTRODUCTION \n",
    "\n",
    "<b>The Problem</b>\n",
    "<p><justify>They say “all work and no play make Jack a boy”. It is widely known that kids from Nigeria are always keen about education and spend a large number of their childhood studying for a better future. However, it is good to build the mental state of these children with fun activities, this can be done by fun activities.</justify></p>\n",
    "\n",
    "<b>The Solution</b>\n",
    "<p><justify>Castiel Children Park is a recreation park intended for children in the metropolis of Abuja FCT, Nigeria where all children from every cluster of the city will have access to the facility. Some of the activities that will be available includes;\n",
    "<ul><li>Skating</li>\n",
    "    <li>Swimming activities</li>\n",
    "    <li>Arcade</li>\n",
    "    <li>Fast foods</li>\n",
    "    <li>Children fitness and many more.</li>\n",
    "</ul>\n",
    "</justify></p>\n",
    "\n",
    "<p><justify>While there already exist locations that are children oriented, Castiel will be the first of its kind to give children a subscription plan-based payment which will give access to every activity for subscription validity duration except for the fast-food section that may require a little token for each meal. This recreation center will allow children from every background, different schools and upbringing interreact in an adult supervised environment.</justify></p>\n",
    "\n",
    "### METHODOLOGY\n",
    "\n",
    "<justify>Data science will be used to leverage the selection of the best location to for proposed recreation center.\n",
    "<ol><li>Data Collection: Data collection will be done with the use of the Requests and BeautifulSoup libraries in python.</li>\n",
    "<li>Data Wrangling and Visualization: This will be done after data has been collected. The tools to be used for this include Pandas, Matplotlib and the Seaborn libraries of Python. This will give a better meaning to the dataset for more analysis to be carried out on it.</li>\n",
    "<li>Location and Clustering: This will be done the use of k-means and geopy amongst other libraries. Also, FourSquare will play a big role in selecting the location to cater for all clusters.\n",
    "All the above-mentioned libraries will be used to understand and select the best location for the proposed center.</li>\n",
    "</ol></justify>\n",
    "</body>"
   ]
  }
 ],
 "metadata": {
  "kernelspec": {
   "display_name": "Python 3",
   "language": "python",
   "name": "python3"
  },
  "language_info": {
   "codemirror_mode": {
    "name": "ipython",
    "version": 3
   },
   "file_extension": ".py",
   "mimetype": "text/x-python",
   "name": "python",
   "nbconvert_exporter": "python",
   "pygments_lexer": "ipython3",
   "version": "3.7.3"
  }
 },
 "nbformat": 4,
 "nbformat_minor": 4
}
